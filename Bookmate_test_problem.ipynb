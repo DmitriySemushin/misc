{
 "cells": [
  {
   "cell_type": "markdown",
   "metadata": {},
   "source": [
    "### Dmitriy Semushin\n",
    "## Bookmate test problem for Junior Analyst job opening"
   ]
  },
  {
   "cell_type": "markdown",
   "metadata": {},
   "source": [
    "Import pandas for reading the data and populating the datebase, and sqlite3 to create the database and make queries:"
   ]
  },
  {
   "cell_type": "code",
   "execution_count": 1,
   "metadata": {
    "collapsed": true
   },
   "outputs": [],
   "source": [
    "import pandas as pd\n",
    "from sqlite3 import dbapi2 as sq3"
   ]
  },
  {
   "cell_type": "markdown",
   "metadata": {},
   "source": [
    "Load the data into a dataframe:"
   ]
  },
  {
   "cell_type": "code",
   "execution_count": 2,
   "metadata": {},
   "outputs": [
    {
     "data": {
      "text/html": [
       "<div>\n",
       "<style scoped>\n",
       "    .dataframe tbody tr th:only-of-type {\n",
       "        vertical-align: middle;\n",
       "    }\n",
       "\n",
       "    .dataframe tbody tr th {\n",
       "        vertical-align: top;\n",
       "    }\n",
       "\n",
       "    .dataframe thead th {\n",
       "        text-align: right;\n",
       "    }\n",
       "</style>\n",
       "<table border=\"1\" class=\"dataframe\">\n",
       "  <thead>\n",
       "    <tr style=\"text-align: right;\">\n",
       "      <th></th>\n",
       "      <th>user_id</th>\n",
       "      <th>started_at</th>\n",
       "    </tr>\n",
       "  </thead>\n",
       "  <tbody>\n",
       "    <tr>\n",
       "      <th>0</th>\n",
       "      <td>2066</td>\n",
       "      <td>2015-05-01 05:42:46</td>\n",
       "    </tr>\n",
       "    <tr>\n",
       "      <th>1</th>\n",
       "      <td>7931</td>\n",
       "      <td>2015-05-01 06:20:15</td>\n",
       "    </tr>\n",
       "    <tr>\n",
       "      <th>2</th>\n",
       "      <td>3736</td>\n",
       "      <td>2015-05-01 08:11:58</td>\n",
       "    </tr>\n",
       "    <tr>\n",
       "      <th>3</th>\n",
       "      <td>1604</td>\n",
       "      <td>2015-05-01 11:00:08</td>\n",
       "    </tr>\n",
       "    <tr>\n",
       "      <th>4</th>\n",
       "      <td>886</td>\n",
       "      <td>2015-05-02 03:55:39</td>\n",
       "    </tr>\n",
       "  </tbody>\n",
       "</table>\n",
       "</div>"
      ],
      "text/plain": [
       "   user_id          started_at\n",
       "0     2066 2015-05-01 05:42:46\n",
       "1     7931 2015-05-01 06:20:15\n",
       "2     3736 2015-05-01 08:11:58\n",
       "3     1604 2015-05-01 11:00:08\n",
       "4      886 2015-05-02 03:55:39"
      ]
     },
     "execution_count": 2,
     "metadata": {},
     "output_type": "execute_result"
    }
   ],
   "source": [
    "fileurl = 'https://s3.amazonaws.com/bookmate/analyst_test.csv'\n",
    "df = pd.read_csv(fileurl, parse_dates=[1])\n",
    "df.head()"
   ]
  },
  {
   "cell_type": "markdown",
   "metadata": {},
   "source": [
    "Create a database:"
   ]
  },
  {
   "cell_type": "code",
   "execution_count": 3,
   "metadata": {
    "collapsed": true
   },
   "outputs": [],
   "source": [
    "db = sq3.connect('payments.db')"
   ]
  },
  {
   "cell_type": "markdown",
   "metadata": {},
   "source": [
    "Make the schema for a table \"paylogs\" and create that table:"
   ]
  },
  {
   "cell_type": "code",
   "execution_count": 4,
   "metadata": {
    "collapsed": true
   },
   "outputs": [],
   "source": [
    "plog_schema = \"\"\"\n",
    "DROP TABLE IF EXISTS \"paylogs\";\n",
    "CREATE TABLE \"paylogs\" (\n",
    "    id INTEGER PRIMARY KEY AUTOINCREMENT NOT NULL,\n",
    "    user_id INTEGER NOT NULL,\n",
    "    started_at DATETIME\n",
    ");\n",
    "\"\"\"\n",
    "db.cursor().executescript(plog_schema)\n",
    "db.commit()"
   ]
  },
  {
   "cell_type": "markdown",
   "metadata": {
    "collapsed": true
   },
   "source": [
    "Populate the table from the dataframe:"
   ]
  },
  {
   "cell_type": "code",
   "execution_count": 5,
   "metadata": {},
   "outputs": [],
   "source": [
    "df.to_sql(\"paylogs\", db, if_exists='append', index = False)"
   ]
  },
  {
   "cell_type": "markdown",
   "metadata": {},
   "source": [
    "Create a function for execution of queries:"
   ]
  },
  {
   "cell_type": "code",
   "execution_count": 8,
   "metadata": {},
   "outputs": [],
   "source": [
    "def query(sel): \n",
    "    return db.cursor().execute(sel).fetchall()"
   ]
  },
  {
   "cell_type": "markdown",
   "metadata": {},
   "source": [
    "Let's first find out how many users there are:"
   ]
  },
  {
   "cell_type": "code",
   "execution_count": 9,
   "metadata": {},
   "outputs": [
    {
     "data": {
      "text/plain": [
       "[(115,)]"
      ]
     },
     "execution_count": 9,
     "metadata": {},
     "output_type": "execute_result"
    }
   ],
   "source": [
    "sel = \"\"\"\n",
    "SELECT COUNT(DISTINCT user_id)\n",
    "  FROM paylogs;\n",
    "\"\"\"\n",
    "query(sel)"
   ]
  },
  {
   "cell_type": "markdown",
   "metadata": {},
   "source": [
    "Designate a variable `seldifmon` for a subquery that will be later used in different queries:"
   ]
  },
  {
   "cell_type": "code",
   "execution_count": null,
   "metadata": {
    "collapsed": true
   },
   "outputs": [],
   "source": [
    "seldifmon = \"\"\"\n",
    "SELECT user_id,\n",
    "       12*(strftime(\"%Y\", 'now') - strftime(\"%Y\", started_at)) +\n",
    "       (strftime(\"%m\", 'now') - strftime(\"%m\", started_at)) AS difmon\n",
    "  FROM paylogs\n",
    "\"\"\"\n",
    "#query(seldifmon)"
   ]
  },
  {
   "cell_type": "markdown",
   "metadata": {},
   "source": [
    "Query that counts new users:"
   ]
  },
  {
   "cell_type": "code",
   "execution_count": 18,
   "metadata": {},
   "outputs": [
    {
     "data": {
      "text/plain": [
       "[(0,)]"
      ]
     },
     "execution_count": 18,
     "metadata": {},
     "output_type": "execute_result"
    }
   ],
   "source": [
    "selnew = \"\"\"\n",
    "SELECT COUNT(DISTINCT user_id)\n",
    "  FROM (SELECT user_id,\n",
    "               MAX(difmon) AS maxdif\n",
    "          FROM ({0}\n",
    "                )\n",
    "         GROUP BY user_id\n",
    "         )\n",
    " WHERE maxdif = 0;\n",
    "\"\"\".format(seldifmon)\n",
    "query(selnew)"
   ]
  },
  {
   "cell_type": "markdown",
   "metadata": {},
   "source": [
    "Query that counts recurrent users:"
   ]
  },
  {
   "cell_type": "code",
   "execution_count": 12,
   "metadata": {},
   "outputs": [
    {
     "data": {
      "text/plain": [
       "[(0,)]"
      ]
     },
     "execution_count": 12,
     "metadata": {},
     "output_type": "execute_result"
    }
   ],
   "source": [
    "selrecur = \"\"\"\n",
    "SELECT COUNT(DISTINCT user_id)\n",
    "  FROM (SELECT user_id,\n",
    "               COUNT(difmon) AS c\n",
    "          FROM ({0}\n",
    "                 WHERE difmon <= 1\n",
    "                )\n",
    "         GROUP BY user_id\n",
    "         )\n",
    " WHERE c >= 2;\n",
    "\"\"\".format(seldifmon)\n",
    "query(selrecur)"
   ]
  },
  {
   "cell_type": "markdown",
   "metadata": {},
   "source": [
    "Query that counts reactivated users:"
   ]
  },
  {
   "cell_type": "code",
   "execution_count": 13,
   "metadata": {},
   "outputs": [
    {
     "data": {
      "text/plain": [
       "[(0,)]"
      ]
     },
     "execution_count": 13,
     "metadata": {},
     "output_type": "execute_result"
    }
   ],
   "source": [
    "selreac = \"\"\"\n",
    "SELECT COUNT(DISTINCT user_id)\n",
    "  FROM (SELECT user_id,\n",
    "               COUNT(difmon) AS c,\n",
    "               MIN(difmon) AS mindif\n",
    "          FROM ({0}\n",
    "                 WHERE difmon <> 1\n",
    "                )\n",
    "         GROUP BY user_id\n",
    "         )\n",
    " WHERE c >= 2 AND mindif = 0;\n",
    "\"\"\".format(seldifmon)\n",
    "query(selreac)"
   ]
  },
  {
   "cell_type": "markdown",
   "metadata": {},
   "source": [
    "Query that counts churned users:"
   ]
  },
  {
   "cell_type": "code",
   "execution_count": 14,
   "metadata": {},
   "outputs": [
    {
     "data": {
      "text/plain": [
       "[(115,)]"
      ]
     },
     "execution_count": 14,
     "metadata": {},
     "output_type": "execute_result"
    }
   ],
   "source": [
    "selchurn = \"\"\"\n",
    "SELECT COUNT(DISTINCT user_id)\n",
    "  FROM (SELECT user_id,\n",
    "               MIN(difmon) AS mindif\n",
    "          FROM ({0}\n",
    "                )\n",
    "         GROUP BY user_id\n",
    "         )\n",
    " WHERE mindif >= 1;\n",
    "\"\"\".format(seldifmon)\n",
    "query(selchurn)"
   ]
  },
  {
   "cell_type": "markdown",
   "metadata": {},
   "source": [
    "As the last date in `started_at` field is in 2015, all users count as churned. Let's change the reference date from `'now'` to the moment of the last input into the paylogs table."
   ]
  },
  {
   "cell_type": "markdown",
   "metadata": {},
   "source": [
    "Assign variables `date0` to the subquery for the new reference date and `seldifmon0` for the subquery `seldifmon` but with `'now'` changed to `date0`."
   ]
  },
  {
   "cell_type": "code",
   "execution_count": 20,
   "metadata": {
    "collapsed": true
   },
   "outputs": [],
   "source": [
    "date0 = \"\"\"\n",
    "SELECT MAX(started_at)\n",
    "  FROM paylogs\"\"\"\n",
    "\n",
    "seldifmon0 = \"\"\"\n",
    "SELECT user_id,\n",
    "       12*(strftime(\"%Y\", ({0})) - strftime(\"%Y\", started_at)) +\n",
    "       (strftime(\"%m\", ({0})) - strftime(\"%m\", started_at)) AS difmon\n",
    "  FROM paylogs\n",
    "\"\"\".format(date0)"
   ]
  },
  {
   "cell_type": "markdown",
   "metadata": {},
   "source": [
    "Query that counts new users for `date0`:"
   ]
  },
  {
   "cell_type": "code",
   "execution_count": 21,
   "metadata": {},
   "outputs": [
    {
     "data": {
      "text/plain": [
       "[(0,)]"
      ]
     },
     "execution_count": 21,
     "metadata": {},
     "output_type": "execute_result"
    }
   ],
   "source": [
    "selnew0 = \"\"\"\n",
    "SELECT COUNT(DISTINCT user_id)\n",
    "  FROM (SELECT user_id,\n",
    "               MAX(difmon) AS maxdif\n",
    "          FROM ({0}\n",
    "                )\n",
    "         GROUP BY user_id\n",
    "         )\n",
    " WHERE maxdif = 0;\n",
    "\"\"\".format(seldifmon0)\n",
    "query(selnew0)"
   ]
  },
  {
   "cell_type": "markdown",
   "metadata": {},
   "source": [
    "Query that counts recurrent users for `date0`:"
   ]
  },
  {
   "cell_type": "code",
   "execution_count": 22,
   "metadata": {},
   "outputs": [
    {
     "data": {
      "text/plain": [
       "[(0,)]"
      ]
     },
     "execution_count": 22,
     "metadata": {},
     "output_type": "execute_result"
    }
   ],
   "source": [
    "selrecur0 = \"\"\"\n",
    "SELECT COUNT(DISTINCT user_id)\n",
    "  FROM (SELECT user_id,\n",
    "               COUNT(difmon) AS c\n",
    "          FROM ({0}\n",
    "                 WHERE difmon <= 1\n",
    "                )\n",
    "         GROUP BY user_id\n",
    "         )\n",
    " WHERE c >= 2;\n",
    "\"\"\".format(seldifmon0)\n",
    "query(selrecur0)"
   ]
  },
  {
   "cell_type": "markdown",
   "metadata": {},
   "source": [
    "Query that counts reactivated users for `date0`:"
   ]
  },
  {
   "cell_type": "code",
   "execution_count": 24,
   "metadata": {},
   "outputs": [
    {
     "data": {
      "text/plain": [
       "[(1,)]"
      ]
     },
     "execution_count": 24,
     "metadata": {},
     "output_type": "execute_result"
    }
   ],
   "source": [
    "selreac0 = \"\"\"\n",
    "SELECT COUNT(DISTINCT user_id)\n",
    "  FROM (SELECT user_id,\n",
    "               COUNT(difmon) AS c,\n",
    "               MIN(difmon) AS mindif\n",
    "          FROM ({0}\n",
    "                 WHERE difmon <> 1\n",
    "                )\n",
    "         GROUP BY user_id\n",
    "         )\n",
    " WHERE c >= 2 AND mindif = 0;\n",
    "\"\"\".format(seldifmon0)\n",
    "query(selreac0)"
   ]
  },
  {
   "cell_type": "markdown",
   "metadata": {},
   "source": [
    "Query that counts churned users for `date0`:"
   ]
  },
  {
   "cell_type": "code",
   "execution_count": 25,
   "metadata": {},
   "outputs": [
    {
     "data": {
      "text/plain": [
       "[(114,)]"
      ]
     },
     "execution_count": 25,
     "metadata": {},
     "output_type": "execute_result"
    }
   ],
   "source": [
    "selchurn0 = \"\"\"\n",
    "SELECT COUNT(DISTINCT user_id)\n",
    "  FROM (SELECT user_id,\n",
    "               MIN(difmon) AS mindif\n",
    "          FROM ({0}\n",
    "                )\n",
    "         GROUP BY user_id\n",
    "         )\n",
    " WHERE mindif >= 1;\n",
    "\"\"\".format(seldifmon0)\n",
    "query(selchurn0)"
   ]
  },
  {
   "cell_type": "markdown",
   "metadata": {},
   "source": [
    "As you can see from the queries above, at `date0` there are 114 churned users and 1 reactivated user."
   ]
  },
  {
   "cell_type": "code",
   "execution_count": null,
   "metadata": {
    "collapsed": true
   },
   "outputs": [],
   "source": []
  }
 ],
 "metadata": {
  "kernelspec": {
   "display_name": "Python 3",
   "language": "python",
   "name": "python3"
  },
  "language_info": {
   "codemirror_mode": {
    "name": "ipython",
    "version": 3
   },
   "file_extension": ".py",
   "mimetype": "text/x-python",
   "name": "python",
   "nbconvert_exporter": "python",
   "pygments_lexer": "ipython3",
   "version": "3.6.1"
  }
 },
 "nbformat": 4,
 "nbformat_minor": 2
}
