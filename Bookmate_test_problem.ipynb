{
 "cells": [
  {
   "cell_type": "markdown",
   "metadata": {},
   "source": [
    "### Dmitriy Semushin\n",
    "## Bookmate test problem for Junior Analyst job opening"
   ]
  },
  {
   "cell_type": "markdown",
   "metadata": {},
   "source": [
    "Import pandas for reading the data and populating the datebase, and sqlite3 to create the database and make queries:"
   ]
  },
  {
   "cell_type": "code",
   "execution_count": 1,
   "metadata": {
    "collapsed": true
   },
   "outputs": [],
   "source": [
    "import pandas as pd\n",
    "from sqlite3 import dbapi2 as sq3"
   ]
  },
  {
   "cell_type": "markdown",
   "metadata": {},
   "source": [
    "Load the data into a dataframe:"
   ]
  },
  {
   "cell_type": "code",
   "execution_count": 2,
   "metadata": {},
   "outputs": [
    {
     "data": {
      "text/html": [
       "<div>\n",
       "<style scoped>\n",
       "    .dataframe tbody tr th:only-of-type {\n",
       "        vertical-align: middle;\n",
       "    }\n",
       "\n",
       "    .dataframe tbody tr th {\n",
       "        vertical-align: top;\n",
       "    }\n",
       "\n",
       "    .dataframe thead th {\n",
       "        text-align: right;\n",
       "    }\n",
       "</style>\n",
       "<table border=\"1\" class=\"dataframe\">\n",
       "  <thead>\n",
       "    <tr style=\"text-align: right;\">\n",
       "      <th></th>\n",
       "      <th>user_id</th>\n",
       "      <th>started_at</th>\n",
       "    </tr>\n",
       "  </thead>\n",
       "  <tbody>\n",
       "    <tr>\n",
       "      <th>0</th>\n",
       "      <td>2066</td>\n",
       "      <td>2015-05-01 05:42:46</td>\n",
       "    </tr>\n",
       "    <tr>\n",
       "      <th>1</th>\n",
       "      <td>7931</td>\n",
       "      <td>2015-05-01 06:20:15</td>\n",
       "    </tr>\n",
       "    <tr>\n",
       "      <th>2</th>\n",
       "      <td>3736</td>\n",
       "      <td>2015-05-01 08:11:58</td>\n",
       "    </tr>\n",
       "    <tr>\n",
       "      <th>3</th>\n",
       "      <td>1604</td>\n",
       "      <td>2015-05-01 11:00:08</td>\n",
       "    </tr>\n",
       "    <tr>\n",
       "      <th>4</th>\n",
       "      <td>886</td>\n",
       "      <td>2015-05-02 03:55:39</td>\n",
       "    </tr>\n",
       "  </tbody>\n",
       "</table>\n",
       "</div>"
      ],
      "text/plain": [
       "   user_id          started_at\n",
       "0     2066 2015-05-01 05:42:46\n",
       "1     7931 2015-05-01 06:20:15\n",
       "2     3736 2015-05-01 08:11:58\n",
       "3     1604 2015-05-01 11:00:08\n",
       "4      886 2015-05-02 03:55:39"
      ]
     },
     "execution_count": 2,
     "metadata": {},
     "output_type": "execute_result"
    }
   ],
   "source": [
    "fileurl = 'https://s3.amazonaws.com/bookmate/analyst_test.csv'\n",
    "df = pd.read_csv(fileurl, parse_dates=[1])\n",
    "df.head()"
   ]
  },
  {
   "cell_type": "markdown",
   "metadata": {},
   "source": [
    "Create a database:"
   ]
  },
  {
   "cell_type": "code",
   "execution_count": 3,
   "metadata": {
    "collapsed": true
   },
   "outputs": [],
   "source": [
    "db = sq3.connect('payments.db')"
   ]
  },
  {
   "cell_type": "markdown",
   "metadata": {},
   "source": [
    "Make the schema for a table \"paylogs\" and create that table:"
   ]
  },
  {
   "cell_type": "code",
   "execution_count": 4,
   "metadata": {
    "collapsed": true
   },
   "outputs": [],
   "source": [
    "plog_schema = \"\"\"\n",
    "DROP TABLE IF EXISTS \"paylogs\";\n",
    "CREATE TABLE \"paylogs\" (\n",
    "    id INTEGER PRIMARY KEY AUTOINCREMENT NOT NULL,\n",
    "    user_id INTEGER NOT NULL,\n",
    "    started_at DATETIME\n",
    ");\n",
    "\"\"\"\n",
    "db.cursor().executescript(plog_schema)\n",
    "db.commit()"
   ]
  },
  {
   "cell_type": "markdown",
   "metadata": {
    "collapsed": true
   },
   "source": [
    "Populate the table from the dataframe:"
   ]
  },
  {
   "cell_type": "code",
   "execution_count": 5,
   "metadata": {
    "collapsed": true
   },
   "outputs": [],
   "source": [
    "df.to_sql(\"paylogs\", db, if_exists='append', index = False)"
   ]
  },
  {
   "cell_type": "markdown",
   "metadata": {},
   "source": [
    "Create a function for execution of queries:"
   ]
  },
  {
   "cell_type": "code",
   "execution_count": 6,
   "metadata": {
    "collapsed": true
   },
   "outputs": [],
   "source": [
    "def query(sel):\n",
    "    return db.cursor().execute(sel).fetchall()"
   ]
  },
  {
   "cell_type": "markdown",
   "metadata": {},
   "source": [
    "Let's first find out how many users there are:"
   ]
  },
  {
   "cell_type": "code",
   "execution_count": 7,
   "metadata": {},
   "outputs": [
    {
     "data": {
      "text/plain": [
       "[(115,)]"
      ]
     },
     "execution_count": 7,
     "metadata": {},
     "output_type": "execute_result"
    }
   ],
   "source": [
    "sel = \"\"\"\n",
    "SELECT COUNT(DISTINCT user_id)\n",
    "  FROM paylogs;\n",
    "\"\"\"\n",
    "query(sel)"
   ]
  },
  {
   "cell_type": "markdown",
   "metadata": {},
   "source": [
    "Designate a variable `selmon` for a subquery that will be later used in different queries:"
   ]
  },
  {
   "cell_type": "code",
   "execution_count": 8,
   "metadata": {
    "collapsed": true
   },
   "outputs": [],
   "source": [
    "selmon = \"\"\"\n",
    "SELECT user_id, strftime(\"%m %Y\", started_at) as month,\n",
    "       12*strftime(\"%Y\", started_at) + strftime(\"%m\", started_at) AS m\n",
    "  FROM paylogs\n",
    "\"\"\""
   ]
  },
  {
   "cell_type": "markdown",
   "metadata": {},
   "source": [
    "Query that counts new users:"
   ]
  },
  {
   "cell_type": "code",
   "execution_count": 9,
   "metadata": {},
   "outputs": [
    {
     "data": {
      "text/plain": [
       "[('05 2015', 15), ('06 2015', 26), ('07 2015', 73), ('08 2015', 1)]"
      ]
     },
     "execution_count": 9,
     "metadata": {},
     "output_type": "execute_result"
    }
   ],
   "source": [
    "selnew = \"\"\"\n",
    "SELECT month, COUNT(DISTINCT user_id) AS new\n",
    "  FROM ({0}\n",
    "        )\n",
    " WHERE m = (SELECT maxm\n",
    "              FROM (SELECT user_id AS u,\n",
    "                           MAX(m) AS maxm\n",
    "                      FROM ({0}\n",
    "                            )\n",
    "                     GROUP BY u\n",
    "                    )\n",
    "             WHERE u = user_id\n",
    "            )\n",
    " GROUP BY month;\n",
    "\"\"\".format(selmon)\n",
    "query(selnew)"
   ]
  },
  {
   "cell_type": "markdown",
   "metadata": {},
   "source": [
    "Query that counts recurrent users:"
   ]
  },
  {
   "cell_type": "code",
   "execution_count": 10,
   "metadata": {},
   "outputs": [
    {
     "data": {
      "text/plain": [
       "[('06 2015', 79), ('07 2015', 68)]"
      ]
     },
     "execution_count": 10,
     "metadata": {},
     "output_type": "execute_result"
    }
   ],
   "source": [
    "selrecur = \"\"\"\n",
    "SELECT a.month, COUNT(DISTINCT a.user_id) AS recurrent\n",
    "  FROM ({0}\n",
    "        ) AS a\n",
    " WHERE m IN (SELECT m\n",
    "              FROM ({0}\n",
    "                    ) AS b\n",
    "             WHERE b.user_id = a.user_id\n",
    "            )\n",
    "   AND m-1 IN (SELECT m\n",
    "                 FROM ({0}\n",
    "                       ) AS c\n",
    "                WHERE c.user_id = a.user_id\n",
    "               )\n",
    " GROUP BY a.month;\n",
    "\"\"\".format(selmon)\n",
    "query(selrecur)"
   ]
  },
  {
   "cell_type": "markdown",
   "metadata": {},
   "source": [
    "Query that counts reactivated users:"
   ]
  },
  {
   "cell_type": "code",
   "execution_count": 11,
   "metadata": {},
   "outputs": [
    {
     "data": {
      "text/plain": [
       "[('07 2015', 5), ('08 2015', 1)]"
      ]
     },
     "execution_count": 11,
     "metadata": {},
     "output_type": "execute_result"
    }
   ],
   "source": [
    "selreac = \"\"\"\n",
    "SELECT a.month, COUNT(DISTINCT a.user_id) AS reactivated\n",
    "  FROM ({0}\n",
    "        ) AS a\n",
    " WHERE m IN (SELECT m\n",
    "              FROM ({0}\n",
    "                    ) AS b\n",
    "             WHERE b.user_id = a.user_id\n",
    "            )\n",
    "   AND NOT m-1 IN (SELECT m\n",
    "                     FROM ({0}\n",
    "                           ) AS c\n",
    "                    WHERE c.user_id = a.user_id\n",
    "                   )\n",
    "   AND m > (SELECT minm\n",
    "              FROM (SELECT user_id AS u,\n",
    "                           MIN(m) AS minm\n",
    "                      FROM ({0}\n",
    "                            )\n",
    "                     GROUP BY u\n",
    "                    )\n",
    "             WHERE u = a.user_id\n",
    "            )\n",
    " GROUP BY a.month;\n",
    "\"\"\".format(selmon)\n",
    "query(selreac)"
   ]
  },
  {
   "cell_type": "markdown",
   "metadata": {},
   "source": [
    "Query that counts churned users:"
   ]
  },
  {
   "cell_type": "code",
   "execution_count": 12,
   "metadata": {},
   "outputs": [
    {
     "data": {
      "text/plain": [
       "[('05 2015', 21), ('06 2015', 26), ('07 2015', 73)]"
      ]
     },
     "execution_count": 12,
     "metadata": {},
     "output_type": "execute_result"
    }
   ],
   "source": [
    "selchurn = \"\"\"\n",
    "SELECT a.month, COUNT(DISTINCT a.user_id) AS churned\n",
    "  FROM ({0}\n",
    "        ) AS a\n",
    " WHERE NOT m+1 IN (SELECT m\n",
    "                     FROM ({0}\n",
    "                           ) AS b\n",
    "                    WHERE b.user_id = a.user_id\n",
    "                   )\n",
    "   AND m IN (SELECT m\n",
    "                 FROM ({0}\n",
    "                       ) AS c\n",
    "                WHERE c.user_id = a.user_id\n",
    "               )\n",
    "   AND NOT m = (SELECT MAX(m) FROM ({0}))\n",
    " GROUP BY a.month;\n",
    "\"\"\".format(selmon)\n",
    "query(selchurn)"
   ]
  },
  {
   "cell_type": "code",
   "execution_count": null,
   "metadata": {
    "collapsed": true
   },
   "outputs": [],
   "source": []
  }
 ],
 "metadata": {
  "kernelspec": {
   "display_name": "Python 3",
   "language": "python",
   "name": "python3"
  },
  "language_info": {
   "codemirror_mode": {
    "name": "ipython",
    "version": 3
   },
   "file_extension": ".py",
   "mimetype": "text/x-python",
   "name": "python",
   "nbconvert_exporter": "python",
   "pygments_lexer": "ipython3",
   "version": "3.6.1"
  }
 },
 "nbformat": 4,
 "nbformat_minor": 2
}
